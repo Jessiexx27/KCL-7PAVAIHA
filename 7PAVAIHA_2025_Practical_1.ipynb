{
  "cells": [
    {
      "cell_type": "markdown",
      "metadata": {
        "id": "view-in-github",
        "colab_type": "text"
      },
      "source": [
        "<a href=\"https://colab.research.google.com/github/Jessiexx27/KCL-7PAVAIHA/blob/main/7PAVAIHA_2025_Practical_1.ipynb\" target=\"_parent\"><img src=\"https://colab.research.google.com/assets/colab-badge.svg\" alt=\"Open In Colab\"/></a>"
      ]
    },
    {
      "cell_type": "markdown",
      "id": "c629e95e",
      "metadata": {
        "id": "c629e95e"
      },
      "source": [
        "# Practical 1: Building a Chatbot"
      ]
    },
    {
      "cell_type": "markdown",
      "id": "c79ea0ca",
      "metadata": {
        "id": "c79ea0ca"
      },
      "source": [
        "The aim of this pratical is to implement a local copy of a large language model (LLM)\n",
        "\n",
        "The pratical is uses __[Hugging Face](https://huggingface.co/)__, an open source data science and machine learning platform to interface with LLM's"
      ]
    },
    {
      "cell_type": "markdown",
      "id": "92c25eb8",
      "metadata": {
        "id": "92c25eb8"
      },
      "source": [
        "<hr style=\"border:1px solid black\"> </hr>"
      ]
    },
    {
      "cell_type": "markdown",
      "source": [
        "#IMPORTANT\n",
        "\n",
        "Please save your own copy of this workbook and work off that. Click on `File` and select `Save a copy in Drive`\n",
        "\n",
        "Then, click on `Runtime` above and if highlighted, click on `Restart session`\n",
        "\n",
        "Finally, click on `edit` above and click on `Clear all outputs`"
      ],
      "metadata": {
        "id": "s9tbDC8dc_1-"
      },
      "id": "s9tbDC8dc_1-"
    },
    {
      "cell_type": "markdown",
      "source": [
        "<hr style=\"border:1px solid black\"> </hr>"
      ],
      "metadata": {
        "id": "YsLuGj3IXvoa"
      },
      "id": "YsLuGj3IXvoa"
    },
    {
      "cell_type": "markdown",
      "source": [
        "## Download and run a LLM\n",
        "\n",
        "\n"
      ],
      "metadata": {
        "id": "94daMOTAYnPX"
      },
      "id": "94daMOTAYnPX"
    },
    {
      "cell_type": "markdown",
      "source": [
        "We're going to utilise the __[`transformers`](https://huggingface.co/docs/transformers/en/index)__ toolbox in Hugging Face as it provides a simple interface to download and utilise state-of-the-art pretrained AI models"
      ],
      "metadata": {
        "id": "Fgi8cAYHgMOL"
      },
      "id": "Fgi8cAYHgMOL"
    },
    {
      "cell_type": "markdown",
      "source": [
        "We import `AutoTokenizer` and `AutoModelForCausalLM` which we can use to create classes of the models we are interested in using. You can read more __[here](https://huggingface.co/docs/transformers/main/en/model_doc/auto)__"
      ],
      "metadata": {
        "id": "HtYzyKNcgo9X"
      },
      "id": "HtYzyKNcgo9X"
    },
    {
      "cell_type": "code",
      "execution_count": null,
      "id": "97cd2501",
      "metadata": {
        "id": "97cd2501"
      },
      "outputs": [],
      "source": [
        "from transformers import AutoTokenizer, AutoModelForCausalLM"
      ]
    },
    {
      "cell_type": "markdown",
      "source": [
        "The next code block minimises the warnings you will get when implemententing the code"
      ],
      "metadata": {
        "id": "IBaqzHTShpRY"
      },
      "id": "IBaqzHTShpRY"
    },
    {
      "cell_type": "code",
      "source": [
        "import warnings\n",
        "warnings.filterwarnings(\"ignore\")"
      ],
      "metadata": {
        "id": "CnpLR0kE2Wl3"
      },
      "id": "CnpLR0kE2Wl3",
      "execution_count": null,
      "outputs": []
    },
    {
      "cell_type": "markdown",
      "source": [
        "The next code block sets up a local instance of the *DollyV2 Large Language Model*"
      ],
      "metadata": {
        "id": "IcnnC7YZh-Ag"
      },
      "id": "IcnnC7YZh-Ag"
    },
    {
      "cell_type": "markdown",
      "id": "929163ef",
      "metadata": {
        "id": "929163ef"
      },
      "source": [
        "\n",
        "**Questions:**\n",
        "\n",
        "*   Why did we choose this model?\n",
        "*   What might be some limitations of it?\n"
      ]
    },
    {
      "cell_type": "code",
      "source": [
        "model_path = \"databricks/dolly-v2-3b\"\n",
        "\n",
        "model = AutoModelForCausalLM.from_pretrained(model_path, trust_remote_code=True)\n"
      ],
      "metadata": {
        "id": "zrUcSqkGvP9l",
        "colab": {
          "base_uri": "https://localhost:8080/",
          "height": 113,
          "referenced_widgets": [
            "6ff8ed64cffd4815bcca3fb903ee5a27",
            "5423495654e149a890d543802d759f45",
            "3a0158b615fd4242bd523bde7cfbcbe6",
            "6d228fe6256446c9a57c0277b0c798cb",
            "9b20926a1dfe4c33bb1219983aaa0062",
            "7dc92ab6c488463da9144b0b8a216b08",
            "566beca6b817467797198b9fa6b134ee",
            "ecb237ecf8864c12abf5b3c9ac4ea524",
            "808bf9dd843a4d6ca59fda2a6cfff522",
            "b565fe39155e4e75b87f1903608c74df",
            "9ea43fce59a343bdb97da8ba27b7a887",
            "ddb71434bdbf44a29b893b29a37a8e3c",
            "7d9a4fa89ab24128ba8c89972624e568",
            "7cb302c1c379419b8fff90dac9fff72f",
            "db3823955bb3448ea76ec6efba851afe",
            "239f860042494d0e9a5e5dd14c9406c5",
            "9600fe3b4ccd45068f1b1ad4abaeb9a0",
            "f7d8389efdbd4fbcaf3a1be69eae635d",
            "7a1734b68b3d4513b3fabeb515781616",
            "ce1c16d9f84d4ad196821ae11a1c6724",
            "8faded62eb4b46fea15459ffddf2c276",
            "2bf264aec4b74ffc99b5a05b5a5e1459",
            "e90179a005114b3ba9219e0de6081500",
            "bafbcaa79c3a467da5dc0a561e682571",
            "8e2a192e336547b994c8373491652cea",
            "75add48e0cb748d5b11769f21b397af2",
            "cae59c7498524cdf8e8db0255cd343ef",
            "925b0272072d4693b5ab554aaf4abda7",
            "a42fd35eb7b147069283353e806e0dc5",
            "c29f031ddedf4ec6bfea8ebdb70d3d1a",
            "6ee97fddde004144b37bc0a607e1ee7f",
            "be48549592614d16b497eaeda2138fe0",
            "e70a0138c11c40b3bdd892565024fb4d"
          ]
        },
        "outputId": "0e3223fe-6f77-423c-bd49-89053cff568f"
      },
      "id": "zrUcSqkGvP9l",
      "execution_count": null,
      "outputs": [
        {
          "output_type": "display_data",
          "data": {
            "text/plain": [
              "config.json:   0%|          | 0.00/819 [00:00<?, ?B/s]"
            ],
            "application/vnd.jupyter.widget-view+json": {
              "version_major": 2,
              "version_minor": 0,
              "model_id": "6ff8ed64cffd4815bcca3fb903ee5a27"
            }
          },
          "metadata": {}
        },
        {
          "output_type": "display_data",
          "data": {
            "text/plain": [
              "pytorch_model.bin:   0%|          | 0.00/5.68G [00:00<?, ?B/s]"
            ],
            "application/vnd.jupyter.widget-view+json": {
              "version_major": 2,
              "version_minor": 0,
              "model_id": "ddb71434bdbf44a29b893b29a37a8e3c"
            }
          },
          "metadata": {}
        },
        {
          "output_type": "display_data",
          "data": {
            "text/plain": [
              "model.safetensors:   0%|          | 0.00/5.68G [00:00<?, ?B/s]"
            ],
            "application/vnd.jupyter.widget-view+json": {
              "version_major": 2,
              "version_minor": 0,
              "model_id": "e90179a005114b3ba9219e0de6081500"
            }
          },
          "metadata": {}
        }
      ]
    },
    {
      "cell_type": "markdown",
      "source": [
        "Next we need to set-up the __[`tokenizer`](https://huggingface.co/docs/transformers/en/main_classes/tokenizer)__ which prepares the inputs (text) for inference in our model"
      ],
      "metadata": {
        "id": "-jM-VYZii5rI"
      },
      "id": "-jM-VYZii5rI"
    },
    {
      "cell_type": "code",
      "source": [
        "tokenizer = AutoTokenizer.from_pretrained(model_path, trust_remote_code=True, padding_side=\"left\")"
      ],
      "metadata": {
        "id": "9sf_AG56jjQV"
      },
      "id": "9sf_AG56jjQV",
      "execution_count": null,
      "outputs": []
    },
    {
      "cell_type": "markdown",
      "source": [
        "Now we set the question we'd like to ask the model (feel free to change this example) and the we generate the input tokens for this prompt"
      ],
      "metadata": {
        "id": "psfek-HBjacE"
      },
      "id": "psfek-HBjacE"
    },
    {
      "cell_type": "code",
      "source": [
        "prompt = \"What are possible uses of Large Langauge Models in healthcare?\""
      ],
      "metadata": {
        "id": "0vJC5JrEjBZc"
      },
      "id": "0vJC5JrEjBZc",
      "execution_count": null,
      "outputs": []
    },
    {
      "cell_type": "code",
      "source": [
        "tokens = tokenizer(prompt, return_tensors=\"pt\", truncation=True, max_length=128)"
      ],
      "metadata": {
        "id": "6IBH57YXi82l"
      },
      "id": "6IBH57YXi82l",
      "execution_count": null,
      "outputs": []
    },
    {
      "cell_type": "markdown",
      "source": [
        "We can now feed these tokens into our model to generate the response\n",
        "\n",
        "**Note:** This step is slow"
      ],
      "metadata": {
        "id": "LjOkwPYt5a2X"
      },
      "id": "LjOkwPYt5a2X"
    },
    {
      "cell_type": "code",
      "source": [
        "output = model.generate(**tokens,  max_length=128, pad_token_id=tokenizer.eos_token_id)"
      ],
      "metadata": {
        "id": "_tX5UpEY47d0"
      },
      "id": "_tX5UpEY47d0",
      "execution_count": null,
      "outputs": []
    },
    {
      "cell_type": "markdown",
      "source": [
        "Finally, we decode the response and print it\n",
        "\n",
        "**Question:** Why does the answer get cut-off?"
      ],
      "metadata": {
        "id": "wIR8zkzFlw3N"
      },
      "id": "wIR8zkzFlw3N"
    },
    {
      "cell_type": "code",
      "source": [
        "response = tokenizer.decode(output[0], skip_special_tokens=False)"
      ],
      "metadata": {
        "id": "DFvXySj5xJ9X"
      },
      "id": "DFvXySj5xJ9X",
      "execution_count": null,
      "outputs": []
    },
    {
      "cell_type": "code",
      "source": [
        "print(response)"
      ],
      "metadata": {
        "id": "mS8vw39VkgBL"
      },
      "id": "mS8vw39VkgBL",
      "execution_count": null,
      "outputs": []
    },
    {
      "cell_type": "markdown",
      "source": [
        "<hr style=\"border:1px solid black\"> </hr>"
      ],
      "metadata": {
        "id": "ePyp0Rkhxb4P"
      },
      "id": "ePyp0Rkhxb4P"
    },
    {
      "cell_type": "markdown",
      "source": [
        "## Having trouble get the code to run?\n",
        "\n",
        "Not surprising, running LLM's is resouce heavy and when your colab allocats (low resource) CPU engines by default.\n",
        "\n",
        "To overcome this, you can change colabs run time to a remote GPU or ask colab to operate through your own resource"
      ],
      "metadata": {
        "id": "vw4nHLDgvu6b"
      },
      "id": "vw4nHLDgvu6b"
    },
    {
      "cell_type": "markdown",
      "source": [
        "**Running Colabs GPU**\n",
        "\n",
        " In order to connect to GPU, click on the small down arrow icon, just besides the `Connect` button, then click the `Change runtime type` option.\n",
        "\n",
        "In the dialog box, select the `T4 GPU` radio button, and then click on the `Save` button.\n",
        "\n",
        "This will reinitialize the session for with GPU computational resources."
      ],
      "metadata": {
        "id": "Midf8ajGvu3x"
      },
      "id": "Midf8ajGvu3x"
    },
    {
      "cell_type": "markdown",
      "source": [
        "**Connect to your own local runtime via Juypter**\n",
        "\n",
        "Open a conda terminal, copy the following command and run it"
      ],
      "metadata": {
        "id": "GYSwh3b4vuzO"
      },
      "id": "GYSwh3b4vuzO"
    },
    {
      "cell_type": "code",
      "source": [
        "jupyter notebook \\\n",
        "  --NotebookApp.allow_origin='https://colab.research.google.com' \\\n",
        "  --port=8888 \\\n",
        "  --NotebookApp.port_retries=0"
      ],
      "metadata": {
        "id": "wJeASRq_xAUo"
      },
      "id": "wJeASRq_xAUo",
      "execution_count": null,
      "outputs": []
    },
    {
      "cell_type": "markdown",
      "source": [
        "Once this command has run, leave the terminal open and copy the line starting with `http://localhost:8888`\n",
        "\n",
        "Now click on the small down arrow icon, just besides the `Connect` button, go to `Connect to a local runtime` option.\n",
        "\n",
        "Paste the line you've just copied into the `URL Backend` box, then click on connect."
      ],
      "metadata": {
        "id": "omYu4Cr_vusC"
      },
      "id": "omYu4Cr_vusC"
    },
    {
      "cell_type": "markdown",
      "source": [
        "Note: it might be worth restarting your runtime *before* doing these steps.\n",
        "\n",
        "*   Click on `Runtime` above and if highlighted, click on `Restart session`\n",
        "*   Click on `edit` above and click on `Clear all outputs`"
      ],
      "metadata": {
        "id": "Ckc839pIx-Dw"
      },
      "id": "Ckc839pIx-Dw"
    },
    {
      "cell_type": "markdown",
      "source": [
        "Once you've restarted your runtime and cobnnected it to more powerful resouce, you will have to re-run the code blocks in the `Download and run a Large Language Model` section."
      ],
      "metadata": {
        "id": "cUjPNNCXyNLE"
      },
      "id": "cUjPNNCXyNLE"
    },
    {
      "cell_type": "markdown",
      "source": [
        "<hr style=\"border:1px solid black\"> </hr>"
      ],
      "metadata": {
        "id": "GlGcxMAIvumL"
      },
      "id": "GlGcxMAIvumL"
    },
    {
      "cell_type": "markdown",
      "source": [
        "## Set-up a LLM pipeline"
      ],
      "metadata": {
        "id": "-kfPlxyimaus"
      },
      "id": "-kfPlxyimaus"
    },
    {
      "cell_type": "markdown",
      "source": [
        "We can use a Hugging Face [pipeline](https://huggingface.co/docs/transformers/en/main_classes/pipelines) to make this code more efficient. Piplelines are objects that abstract most of the complex code in hugging face, offering a simpler interface for several different tasks  "
      ],
      "metadata": {
        "id": "P9vT53EC6BWS"
      },
      "id": "P9vT53EC6BWS"
    },
    {
      "cell_type": "code",
      "source": [
        "from transformers import pipeline"
      ],
      "metadata": {
        "id": "qLahbb5k6lPp"
      },
      "id": "qLahbb5k6lPp",
      "execution_count": null,
      "outputs": []
    },
    {
      "cell_type": "code",
      "source": [
        "generate_text = pipeline(task = \"text-generation\",\n",
        "                         model = model,\n",
        "                         tokenizer = tokenizer,\n",
        "                         max_length = 128,\n",
        "                         trust_remote_code = True,\n",
        "                         pad_token_id=tokenizer.eos_token_id\n",
        "                        )"
      ],
      "metadata": {
        "id": "POUfhwmhnU3R"
      },
      "id": "POUfhwmhnU3R",
      "execution_count": null,
      "outputs": []
    },
    {
      "cell_type": "code",
      "source": [
        "res = generate_text(\"What are possible uses of Large Langauge Models in healthcare?\")\n"
      ],
      "metadata": {
        "id": "I1CnPwDono6N"
      },
      "id": "I1CnPwDono6N",
      "execution_count": null,
      "outputs": []
    },
    {
      "cell_type": "code",
      "source": [
        "print(res[0][\"generated_text\"])"
      ],
      "metadata": {
        "id": "D1NKeXbzobZI"
      },
      "id": "D1NKeXbzobZI",
      "execution_count": null,
      "outputs": []
    },
    {
      "cell_type": "markdown",
      "source": [
        "<hr style=\"border:1px solid black\"> </hr>"
      ],
      "metadata": {
        "id": "ozvfKNaPD0nc"
      },
      "id": "ozvfKNaPD0nc"
    },
    {
      "cell_type": "markdown",
      "source": [
        "## LLM Hyperparameters"
      ],
      "metadata": {
        "id": "8Ej0R6KonhUj"
      },
      "id": "8Ej0R6KonhUj"
    },
    {
      "cell_type": "markdown",
      "source": [
        "**Question:** Find out what are the core three hyperparamter that effects how a LLLM chooses which tokens to samples when generating it's answers.\n"
      ],
      "metadata": {
        "id": "DuTQmtC0FJXI"
      },
      "id": "DuTQmtC0FJXI"
    },
    {
      "cell_type": "markdown",
      "source": [
        "**Time to code!**\n",
        "Change the pipeline to implement one or more of these strategies"
      ],
      "metadata": {
        "id": "aN_qZgraoi0G"
      },
      "id": "aN_qZgraoi0G"
    },
    {
      "cell_type": "code",
      "source": [],
      "metadata": {
        "id": "VUC2OGnM_abQ"
      },
      "id": "VUC2OGnM_abQ",
      "execution_count": null,
      "outputs": []
    },
    {
      "cell_type": "markdown",
      "source": [
        "<hr style=\"border:1px solid black\"> </hr>"
      ],
      "metadata": {
        "id": "Uo-xddvmpbYz"
      },
      "id": "Uo-xddvmpbYz"
    },
    {
      "cell_type": "markdown",
      "source": [
        "## Chose your own LLM\n",
        "\n",
        "\n",
        "**Time to code!**\n",
        "\n",
        "Implement another LLM from Hugging face"
      ],
      "metadata": {
        "id": "ddVEaBfLDGP-"
      },
      "id": "ddVEaBfLDGP-"
    },
    {
      "cell_type": "code",
      "source": [],
      "metadata": {
        "id": "HSfQ01cdzamA"
      },
      "id": "HSfQ01cdzamA",
      "execution_count": null,
      "outputs": []
    },
    {
      "cell_type": "markdown",
      "source": [
        "<hr style=\"border:1px solid black\"> </hr>"
      ],
      "metadata": {
        "id": "1X5vNEDHD3qb"
      },
      "id": "1X5vNEDHD3qb"
    },
    {
      "cell_type": "markdown",
      "source": [
        "Implement a pre-trained language translation model from Hugging Face\n"
      ],
      "metadata": {
        "id": "3QLer5vdDP77"
      },
      "id": "3QLer5vdDP77"
    },
    {
      "cell_type": "markdown",
      "source": [
        "T5 comes with it's own functions for importing and tokenixing"
      ],
      "metadata": {
        "id": "bixbgzKB3I8g"
      },
      "id": "bixbgzKB3I8g"
    },
    {
      "cell_type": "code",
      "source": [],
      "metadata": {
        "id": "Ph-xWa0CDvvA"
      },
      "id": "Ph-xWa0CDvvA",
      "execution_count": null,
      "outputs": []
    },
    {
      "cell_type": "markdown",
      "source": [
        "<hr style=\"border:1px solid black\"> </hr>"
      ],
      "metadata": {
        "id": "D27P-rId3dFi"
      },
      "id": "D27P-rId3dFi"
    }
  ],
  "metadata": {
    "kernelspec": {
      "display_name": "Python 3",
      "name": "python3"
    },
    "language_info": {
      "codemirror_mode": {
        "name": "ipython",
        "version": 3
      },
      "file_extension": ".py",
      "mimetype": "text/x-python",
      "name": "python",
      "nbconvert_exporter": "python",
      "pygments_lexer": "ipython3",
      "version": "3.10.9"
    },
    "colab": {
      "provenance": [],
      "include_colab_link": true
    },
    "widgets": {
      "application/vnd.jupyter.widget-state+json": {
        "6ff8ed64cffd4815bcca3fb903ee5a27": {
          "model_module": "@jupyter-widgets/controls",
          "model_name": "HBoxModel",
          "model_module_version": "1.5.0",
          "state": {
            "_dom_classes": [],
            "_model_module": "@jupyter-widgets/controls",
            "_model_module_version": "1.5.0",
            "_model_name": "HBoxModel",
            "_view_count": null,
            "_view_module": "@jupyter-widgets/controls",
            "_view_module_version": "1.5.0",
            "_view_name": "HBoxView",
            "box_style": "",
            "children": [
              "IPY_MODEL_5423495654e149a890d543802d759f45",
              "IPY_MODEL_3a0158b615fd4242bd523bde7cfbcbe6",
              "IPY_MODEL_6d228fe6256446c9a57c0277b0c798cb"
            ],
            "layout": "IPY_MODEL_9b20926a1dfe4c33bb1219983aaa0062"
          }
        },
        "5423495654e149a890d543802d759f45": {
          "model_module": "@jupyter-widgets/controls",
          "model_name": "HTMLModel",
          "model_module_version": "1.5.0",
          "state": {
            "_dom_classes": [],
            "_model_module": "@jupyter-widgets/controls",
            "_model_module_version": "1.5.0",
            "_model_name": "HTMLModel",
            "_view_count": null,
            "_view_module": "@jupyter-widgets/controls",
            "_view_module_version": "1.5.0",
            "_view_name": "HTMLView",
            "description": "",
            "description_tooltip": null,
            "layout": "IPY_MODEL_7dc92ab6c488463da9144b0b8a216b08",
            "placeholder": "​",
            "style": "IPY_MODEL_566beca6b817467797198b9fa6b134ee",
            "value": "config.json: 100%"
          }
        },
        "3a0158b615fd4242bd523bde7cfbcbe6": {
          "model_module": "@jupyter-widgets/controls",
          "model_name": "FloatProgressModel",
          "model_module_version": "1.5.0",
          "state": {
            "_dom_classes": [],
            "_model_module": "@jupyter-widgets/controls",
            "_model_module_version": "1.5.0",
            "_model_name": "FloatProgressModel",
            "_view_count": null,
            "_view_module": "@jupyter-widgets/controls",
            "_view_module_version": "1.5.0",
            "_view_name": "ProgressView",
            "bar_style": "success",
            "description": "",
            "description_tooltip": null,
            "layout": "IPY_MODEL_ecb237ecf8864c12abf5b3c9ac4ea524",
            "max": 819,
            "min": 0,
            "orientation": "horizontal",
            "style": "IPY_MODEL_808bf9dd843a4d6ca59fda2a6cfff522",
            "value": 819
          }
        },
        "6d228fe6256446c9a57c0277b0c798cb": {
          "model_module": "@jupyter-widgets/controls",
          "model_name": "HTMLModel",
          "model_module_version": "1.5.0",
          "state": {
            "_dom_classes": [],
            "_model_module": "@jupyter-widgets/controls",
            "_model_module_version": "1.5.0",
            "_model_name": "HTMLModel",
            "_view_count": null,
            "_view_module": "@jupyter-widgets/controls",
            "_view_module_version": "1.5.0",
            "_view_name": "HTMLView",
            "description": "",
            "description_tooltip": null,
            "layout": "IPY_MODEL_b565fe39155e4e75b87f1903608c74df",
            "placeholder": "​",
            "style": "IPY_MODEL_9ea43fce59a343bdb97da8ba27b7a887",
            "value": " 819/819 [00:00&lt;00:00, 68.7kB/s]"
          }
        },
        "9b20926a1dfe4c33bb1219983aaa0062": {
          "model_module": "@jupyter-widgets/base",
          "model_name": "LayoutModel",
          "model_module_version": "1.2.0",
          "state": {
            "_model_module": "@jupyter-widgets/base",
            "_model_module_version": "1.2.0",
            "_model_name": "LayoutModel",
            "_view_count": null,
            "_view_module": "@jupyter-widgets/base",
            "_view_module_version": "1.2.0",
            "_view_name": "LayoutView",
            "align_content": null,
            "align_items": null,
            "align_self": null,
            "border": null,
            "bottom": null,
            "display": null,
            "flex": null,
            "flex_flow": null,
            "grid_area": null,
            "grid_auto_columns": null,
            "grid_auto_flow": null,
            "grid_auto_rows": null,
            "grid_column": null,
            "grid_gap": null,
            "grid_row": null,
            "grid_template_areas": null,
            "grid_template_columns": null,
            "grid_template_rows": null,
            "height": null,
            "justify_content": null,
            "justify_items": null,
            "left": null,
            "margin": null,
            "max_height": null,
            "max_width": null,
            "min_height": null,
            "min_width": null,
            "object_fit": null,
            "object_position": null,
            "order": null,
            "overflow": null,
            "overflow_x": null,
            "overflow_y": null,
            "padding": null,
            "right": null,
            "top": null,
            "visibility": null,
            "width": null
          }
        },
        "7dc92ab6c488463da9144b0b8a216b08": {
          "model_module": "@jupyter-widgets/base",
          "model_name": "LayoutModel",
          "model_module_version": "1.2.0",
          "state": {
            "_model_module": "@jupyter-widgets/base",
            "_model_module_version": "1.2.0",
            "_model_name": "LayoutModel",
            "_view_count": null,
            "_view_module": "@jupyter-widgets/base",
            "_view_module_version": "1.2.0",
            "_view_name": "LayoutView",
            "align_content": null,
            "align_items": null,
            "align_self": null,
            "border": null,
            "bottom": null,
            "display": null,
            "flex": null,
            "flex_flow": null,
            "grid_area": null,
            "grid_auto_columns": null,
            "grid_auto_flow": null,
            "grid_auto_rows": null,
            "grid_column": null,
            "grid_gap": null,
            "grid_row": null,
            "grid_template_areas": null,
            "grid_template_columns": null,
            "grid_template_rows": null,
            "height": null,
            "justify_content": null,
            "justify_items": null,
            "left": null,
            "margin": null,
            "max_height": null,
            "max_width": null,
            "min_height": null,
            "min_width": null,
            "object_fit": null,
            "object_position": null,
            "order": null,
            "overflow": null,
            "overflow_x": null,
            "overflow_y": null,
            "padding": null,
            "right": null,
            "top": null,
            "visibility": null,
            "width": null
          }
        },
        "566beca6b817467797198b9fa6b134ee": {
          "model_module": "@jupyter-widgets/controls",
          "model_name": "DescriptionStyleModel",
          "model_module_version": "1.5.0",
          "state": {
            "_model_module": "@jupyter-widgets/controls",
            "_model_module_version": "1.5.0",
            "_model_name": "DescriptionStyleModel",
            "_view_count": null,
            "_view_module": "@jupyter-widgets/base",
            "_view_module_version": "1.2.0",
            "_view_name": "StyleView",
            "description_width": ""
          }
        },
        "ecb237ecf8864c12abf5b3c9ac4ea524": {
          "model_module": "@jupyter-widgets/base",
          "model_name": "LayoutModel",
          "model_module_version": "1.2.0",
          "state": {
            "_model_module": "@jupyter-widgets/base",
            "_model_module_version": "1.2.0",
            "_model_name": "LayoutModel",
            "_view_count": null,
            "_view_module": "@jupyter-widgets/base",
            "_view_module_version": "1.2.0",
            "_view_name": "LayoutView",
            "align_content": null,
            "align_items": null,
            "align_self": null,
            "border": null,
            "bottom": null,
            "display": null,
            "flex": null,
            "flex_flow": null,
            "grid_area": null,
            "grid_auto_columns": null,
            "grid_auto_flow": null,
            "grid_auto_rows": null,
            "grid_column": null,
            "grid_gap": null,
            "grid_row": null,
            "grid_template_areas": null,
            "grid_template_columns": null,
            "grid_template_rows": null,
            "height": null,
            "justify_content": null,
            "justify_items": null,
            "left": null,
            "margin": null,
            "max_height": null,
            "max_width": null,
            "min_height": null,
            "min_width": null,
            "object_fit": null,
            "object_position": null,
            "order": null,
            "overflow": null,
            "overflow_x": null,
            "overflow_y": null,
            "padding": null,
            "right": null,
            "top": null,
            "visibility": null,
            "width": null
          }
        },
        "808bf9dd843a4d6ca59fda2a6cfff522": {
          "model_module": "@jupyter-widgets/controls",
          "model_name": "ProgressStyleModel",
          "model_module_version": "1.5.0",
          "state": {
            "_model_module": "@jupyter-widgets/controls",
            "_model_module_version": "1.5.0",
            "_model_name": "ProgressStyleModel",
            "_view_count": null,
            "_view_module": "@jupyter-widgets/base",
            "_view_module_version": "1.2.0",
            "_view_name": "StyleView",
            "bar_color": null,
            "description_width": ""
          }
        },
        "b565fe39155e4e75b87f1903608c74df": {
          "model_module": "@jupyter-widgets/base",
          "model_name": "LayoutModel",
          "model_module_version": "1.2.0",
          "state": {
            "_model_module": "@jupyter-widgets/base",
            "_model_module_version": "1.2.0",
            "_model_name": "LayoutModel",
            "_view_count": null,
            "_view_module": "@jupyter-widgets/base",
            "_view_module_version": "1.2.0",
            "_view_name": "LayoutView",
            "align_content": null,
            "align_items": null,
            "align_self": null,
            "border": null,
            "bottom": null,
            "display": null,
            "flex": null,
            "flex_flow": null,
            "grid_area": null,
            "grid_auto_columns": null,
            "grid_auto_flow": null,
            "grid_auto_rows": null,
            "grid_column": null,
            "grid_gap": null,
            "grid_row": null,
            "grid_template_areas": null,
            "grid_template_columns": null,
            "grid_template_rows": null,
            "height": null,
            "justify_content": null,
            "justify_items": null,
            "left": null,
            "margin": null,
            "max_height": null,
            "max_width": null,
            "min_height": null,
            "min_width": null,
            "object_fit": null,
            "object_position": null,
            "order": null,
            "overflow": null,
            "overflow_x": null,
            "overflow_y": null,
            "padding": null,
            "right": null,
            "top": null,
            "visibility": null,
            "width": null
          }
        },
        "9ea43fce59a343bdb97da8ba27b7a887": {
          "model_module": "@jupyter-widgets/controls",
          "model_name": "DescriptionStyleModel",
          "model_module_version": "1.5.0",
          "state": {
            "_model_module": "@jupyter-widgets/controls",
            "_model_module_version": "1.5.0",
            "_model_name": "DescriptionStyleModel",
            "_view_count": null,
            "_view_module": "@jupyter-widgets/base",
            "_view_module_version": "1.2.0",
            "_view_name": "StyleView",
            "description_width": ""
          }
        },
        "ddb71434bdbf44a29b893b29a37a8e3c": {
          "model_module": "@jupyter-widgets/controls",
          "model_name": "HBoxModel",
          "model_module_version": "1.5.0",
          "state": {
            "_dom_classes": [],
            "_model_module": "@jupyter-widgets/controls",
            "_model_module_version": "1.5.0",
            "_model_name": "HBoxModel",
            "_view_count": null,
            "_view_module": "@jupyter-widgets/controls",
            "_view_module_version": "1.5.0",
            "_view_name": "HBoxView",
            "box_style": "",
            "children": [
              "IPY_MODEL_7d9a4fa89ab24128ba8c89972624e568",
              "IPY_MODEL_7cb302c1c379419b8fff90dac9fff72f",
              "IPY_MODEL_db3823955bb3448ea76ec6efba851afe"
            ],
            "layout": "IPY_MODEL_239f860042494d0e9a5e5dd14c9406c5"
          }
        },
        "7d9a4fa89ab24128ba8c89972624e568": {
          "model_module": "@jupyter-widgets/controls",
          "model_name": "HTMLModel",
          "model_module_version": "1.5.0",
          "state": {
            "_dom_classes": [],
            "_model_module": "@jupyter-widgets/controls",
            "_model_module_version": "1.5.0",
            "_model_name": "HTMLModel",
            "_view_count": null,
            "_view_module": "@jupyter-widgets/controls",
            "_view_module_version": "1.5.0",
            "_view_name": "HTMLView",
            "description": "",
            "description_tooltip": null,
            "layout": "IPY_MODEL_9600fe3b4ccd45068f1b1ad4abaeb9a0",
            "placeholder": "​",
            "style": "IPY_MODEL_f7d8389efdbd4fbcaf3a1be69eae635d",
            "value": "pytorch_model.bin: 100%"
          }
        },
        "7cb302c1c379419b8fff90dac9fff72f": {
          "model_module": "@jupyter-widgets/controls",
          "model_name": "FloatProgressModel",
          "model_module_version": "1.5.0",
          "state": {
            "_dom_classes": [],
            "_model_module": "@jupyter-widgets/controls",
            "_model_module_version": "1.5.0",
            "_model_name": "FloatProgressModel",
            "_view_count": null,
            "_view_module": "@jupyter-widgets/controls",
            "_view_module_version": "1.5.0",
            "_view_name": "ProgressView",
            "bar_style": "success",
            "description": "",
            "description_tooltip": null,
            "layout": "IPY_MODEL_7a1734b68b3d4513b3fabeb515781616",
            "max": 5684548185,
            "min": 0,
            "orientation": "horizontal",
            "style": "IPY_MODEL_ce1c16d9f84d4ad196821ae11a1c6724",
            "value": 5684548185
          }
        },
        "db3823955bb3448ea76ec6efba851afe": {
          "model_module": "@jupyter-widgets/controls",
          "model_name": "HTMLModel",
          "model_module_version": "1.5.0",
          "state": {
            "_dom_classes": [],
            "_model_module": "@jupyter-widgets/controls",
            "_model_module_version": "1.5.0",
            "_model_name": "HTMLModel",
            "_view_count": null,
            "_view_module": "@jupyter-widgets/controls",
            "_view_module_version": "1.5.0",
            "_view_name": "HTMLView",
            "description": "",
            "description_tooltip": null,
            "layout": "IPY_MODEL_8faded62eb4b46fea15459ffddf2c276",
            "placeholder": "​",
            "style": "IPY_MODEL_2bf264aec4b74ffc99b5a05b5a5e1459",
            "value": " 5.68G/5.68G [00:39&lt;00:00, 208MB/s]"
          }
        },
        "239f860042494d0e9a5e5dd14c9406c5": {
          "model_module": "@jupyter-widgets/base",
          "model_name": "LayoutModel",
          "model_module_version": "1.2.0",
          "state": {
            "_model_module": "@jupyter-widgets/base",
            "_model_module_version": "1.2.0",
            "_model_name": "LayoutModel",
            "_view_count": null,
            "_view_module": "@jupyter-widgets/base",
            "_view_module_version": "1.2.0",
            "_view_name": "LayoutView",
            "align_content": null,
            "align_items": null,
            "align_self": null,
            "border": null,
            "bottom": null,
            "display": null,
            "flex": null,
            "flex_flow": null,
            "grid_area": null,
            "grid_auto_columns": null,
            "grid_auto_flow": null,
            "grid_auto_rows": null,
            "grid_column": null,
            "grid_gap": null,
            "grid_row": null,
            "grid_template_areas": null,
            "grid_template_columns": null,
            "grid_template_rows": null,
            "height": null,
            "justify_content": null,
            "justify_items": null,
            "left": null,
            "margin": null,
            "max_height": null,
            "max_width": null,
            "min_height": null,
            "min_width": null,
            "object_fit": null,
            "object_position": null,
            "order": null,
            "overflow": null,
            "overflow_x": null,
            "overflow_y": null,
            "padding": null,
            "right": null,
            "top": null,
            "visibility": null,
            "width": null
          }
        },
        "9600fe3b4ccd45068f1b1ad4abaeb9a0": {
          "model_module": "@jupyter-widgets/base",
          "model_name": "LayoutModel",
          "model_module_version": "1.2.0",
          "state": {
            "_model_module": "@jupyter-widgets/base",
            "_model_module_version": "1.2.0",
            "_model_name": "LayoutModel",
            "_view_count": null,
            "_view_module": "@jupyter-widgets/base",
            "_view_module_version": "1.2.0",
            "_view_name": "LayoutView",
            "align_content": null,
            "align_items": null,
            "align_self": null,
            "border": null,
            "bottom": null,
            "display": null,
            "flex": null,
            "flex_flow": null,
            "grid_area": null,
            "grid_auto_columns": null,
            "grid_auto_flow": null,
            "grid_auto_rows": null,
            "grid_column": null,
            "grid_gap": null,
            "grid_row": null,
            "grid_template_areas": null,
            "grid_template_columns": null,
            "grid_template_rows": null,
            "height": null,
            "justify_content": null,
            "justify_items": null,
            "left": null,
            "margin": null,
            "max_height": null,
            "max_width": null,
            "min_height": null,
            "min_width": null,
            "object_fit": null,
            "object_position": null,
            "order": null,
            "overflow": null,
            "overflow_x": null,
            "overflow_y": null,
            "padding": null,
            "right": null,
            "top": null,
            "visibility": null,
            "width": null
          }
        },
        "f7d8389efdbd4fbcaf3a1be69eae635d": {
          "model_module": "@jupyter-widgets/controls",
          "model_name": "DescriptionStyleModel",
          "model_module_version": "1.5.0",
          "state": {
            "_model_module": "@jupyter-widgets/controls",
            "_model_module_version": "1.5.0",
            "_model_name": "DescriptionStyleModel",
            "_view_count": null,
            "_view_module": "@jupyter-widgets/base",
            "_view_module_version": "1.2.0",
            "_view_name": "StyleView",
            "description_width": ""
          }
        },
        "7a1734b68b3d4513b3fabeb515781616": {
          "model_module": "@jupyter-widgets/base",
          "model_name": "LayoutModel",
          "model_module_version": "1.2.0",
          "state": {
            "_model_module": "@jupyter-widgets/base",
            "_model_module_version": "1.2.0",
            "_model_name": "LayoutModel",
            "_view_count": null,
            "_view_module": "@jupyter-widgets/base",
            "_view_module_version": "1.2.0",
            "_view_name": "LayoutView",
            "align_content": null,
            "align_items": null,
            "align_self": null,
            "border": null,
            "bottom": null,
            "display": null,
            "flex": null,
            "flex_flow": null,
            "grid_area": null,
            "grid_auto_columns": null,
            "grid_auto_flow": null,
            "grid_auto_rows": null,
            "grid_column": null,
            "grid_gap": null,
            "grid_row": null,
            "grid_template_areas": null,
            "grid_template_columns": null,
            "grid_template_rows": null,
            "height": null,
            "justify_content": null,
            "justify_items": null,
            "left": null,
            "margin": null,
            "max_height": null,
            "max_width": null,
            "min_height": null,
            "min_width": null,
            "object_fit": null,
            "object_position": null,
            "order": null,
            "overflow": null,
            "overflow_x": null,
            "overflow_y": null,
            "padding": null,
            "right": null,
            "top": null,
            "visibility": null,
            "width": null
          }
        },
        "ce1c16d9f84d4ad196821ae11a1c6724": {
          "model_module": "@jupyter-widgets/controls",
          "model_name": "ProgressStyleModel",
          "model_module_version": "1.5.0",
          "state": {
            "_model_module": "@jupyter-widgets/controls",
            "_model_module_version": "1.5.0",
            "_model_name": "ProgressStyleModel",
            "_view_count": null,
            "_view_module": "@jupyter-widgets/base",
            "_view_module_version": "1.2.0",
            "_view_name": "StyleView",
            "bar_color": null,
            "description_width": ""
          }
        },
        "8faded62eb4b46fea15459ffddf2c276": {
          "model_module": "@jupyter-widgets/base",
          "model_name": "LayoutModel",
          "model_module_version": "1.2.0",
          "state": {
            "_model_module": "@jupyter-widgets/base",
            "_model_module_version": "1.2.0",
            "_model_name": "LayoutModel",
            "_view_count": null,
            "_view_module": "@jupyter-widgets/base",
            "_view_module_version": "1.2.0",
            "_view_name": "LayoutView",
            "align_content": null,
            "align_items": null,
            "align_self": null,
            "border": null,
            "bottom": null,
            "display": null,
            "flex": null,
            "flex_flow": null,
            "grid_area": null,
            "grid_auto_columns": null,
            "grid_auto_flow": null,
            "grid_auto_rows": null,
            "grid_column": null,
            "grid_gap": null,
            "grid_row": null,
            "grid_template_areas": null,
            "grid_template_columns": null,
            "grid_template_rows": null,
            "height": null,
            "justify_content": null,
            "justify_items": null,
            "left": null,
            "margin": null,
            "max_height": null,
            "max_width": null,
            "min_height": null,
            "min_width": null,
            "object_fit": null,
            "object_position": null,
            "order": null,
            "overflow": null,
            "overflow_x": null,
            "overflow_y": null,
            "padding": null,
            "right": null,
            "top": null,
            "visibility": null,
            "width": null
          }
        },
        "2bf264aec4b74ffc99b5a05b5a5e1459": {
          "model_module": "@jupyter-widgets/controls",
          "model_name": "DescriptionStyleModel",
          "model_module_version": "1.5.0",
          "state": {
            "_model_module": "@jupyter-widgets/controls",
            "_model_module_version": "1.5.0",
            "_model_name": "DescriptionStyleModel",
            "_view_count": null,
            "_view_module": "@jupyter-widgets/base",
            "_view_module_version": "1.2.0",
            "_view_name": "StyleView",
            "description_width": ""
          }
        },
        "e90179a005114b3ba9219e0de6081500": {
          "model_module": "@jupyter-widgets/controls",
          "model_name": "HBoxModel",
          "model_module_version": "1.5.0",
          "state": {
            "_dom_classes": [],
            "_model_module": "@jupyter-widgets/controls",
            "_model_module_version": "1.5.0",
            "_model_name": "HBoxModel",
            "_view_count": null,
            "_view_module": "@jupyter-widgets/controls",
            "_view_module_version": "1.5.0",
            "_view_name": "HBoxView",
            "box_style": "",
            "children": [
              "IPY_MODEL_bafbcaa79c3a467da5dc0a561e682571",
              "IPY_MODEL_8e2a192e336547b994c8373491652cea",
              "IPY_MODEL_75add48e0cb748d5b11769f21b397af2"
            ],
            "layout": "IPY_MODEL_cae59c7498524cdf8e8db0255cd343ef"
          }
        },
        "bafbcaa79c3a467da5dc0a561e682571": {
          "model_module": "@jupyter-widgets/controls",
          "model_name": "HTMLModel",
          "model_module_version": "1.5.0",
          "state": {
            "_dom_classes": [],
            "_model_module": "@jupyter-widgets/controls",
            "_model_module_version": "1.5.0",
            "_model_name": "HTMLModel",
            "_view_count": null,
            "_view_module": "@jupyter-widgets/controls",
            "_view_module_version": "1.5.0",
            "_view_name": "HTMLView",
            "description": "",
            "description_tooltip": null,
            "layout": "IPY_MODEL_925b0272072d4693b5ab554aaf4abda7",
            "placeholder": "​",
            "style": "IPY_MODEL_a42fd35eb7b147069283353e806e0dc5",
            "value": "model.safetensors:  64%"
          }
        },
        "8e2a192e336547b994c8373491652cea": {
          "model_module": "@jupyter-widgets/controls",
          "model_name": "FloatProgressModel",
          "model_module_version": "1.5.0",
          "state": {
            "_dom_classes": [],
            "_model_module": "@jupyter-widgets/controls",
            "_model_module_version": "1.5.0",
            "_model_name": "FloatProgressModel",
            "_view_count": null,
            "_view_module": "@jupyter-widgets/controls",
            "_view_module_version": "1.5.0",
            "_view_name": "ProgressView",
            "bar_style": "",
            "description": "",
            "description_tooltip": null,
            "layout": "IPY_MODEL_c29f031ddedf4ec6bfea8ebdb70d3d1a",
            "max": 5684447784,
            "min": 0,
            "orientation": "horizontal",
            "style": "IPY_MODEL_6ee97fddde004144b37bc0a607e1ee7f",
            "value": 3638558720
          }
        },
        "75add48e0cb748d5b11769f21b397af2": {
          "model_module": "@jupyter-widgets/controls",
          "model_name": "HTMLModel",
          "model_module_version": "1.5.0",
          "state": {
            "_dom_classes": [],
            "_model_module": "@jupyter-widgets/controls",
            "_model_module_version": "1.5.0",
            "_model_name": "HTMLModel",
            "_view_count": null,
            "_view_module": "@jupyter-widgets/controls",
            "_view_module_version": "1.5.0",
            "_view_name": "HTMLView",
            "description": "",
            "description_tooltip": null,
            "layout": "IPY_MODEL_be48549592614d16b497eaeda2138fe0",
            "placeholder": "​",
            "style": "IPY_MODEL_e70a0138c11c40b3bdd892565024fb4d",
            "value": " 3.64G/5.68G [00:29&lt;00:13, 155MB/s]"
          }
        },
        "cae59c7498524cdf8e8db0255cd343ef": {
          "model_module": "@jupyter-widgets/base",
          "model_name": "LayoutModel",
          "model_module_version": "1.2.0",
          "state": {
            "_model_module": "@jupyter-widgets/base",
            "_model_module_version": "1.2.0",
            "_model_name": "LayoutModel",
            "_view_count": null,
            "_view_module": "@jupyter-widgets/base",
            "_view_module_version": "1.2.0",
            "_view_name": "LayoutView",
            "align_content": null,
            "align_items": null,
            "align_self": null,
            "border": null,
            "bottom": null,
            "display": null,
            "flex": null,
            "flex_flow": null,
            "grid_area": null,
            "grid_auto_columns": null,
            "grid_auto_flow": null,
            "grid_auto_rows": null,
            "grid_column": null,
            "grid_gap": null,
            "grid_row": null,
            "grid_template_areas": null,
            "grid_template_columns": null,
            "grid_template_rows": null,
            "height": null,
            "justify_content": null,
            "justify_items": null,
            "left": null,
            "margin": null,
            "max_height": null,
            "max_width": null,
            "min_height": null,
            "min_width": null,
            "object_fit": null,
            "object_position": null,
            "order": null,
            "overflow": null,
            "overflow_x": null,
            "overflow_y": null,
            "padding": null,
            "right": null,
            "top": null,
            "visibility": null,
            "width": null
          }
        },
        "925b0272072d4693b5ab554aaf4abda7": {
          "model_module": "@jupyter-widgets/base",
          "model_name": "LayoutModel",
          "model_module_version": "1.2.0",
          "state": {
            "_model_module": "@jupyter-widgets/base",
            "_model_module_version": "1.2.0",
            "_model_name": "LayoutModel",
            "_view_count": null,
            "_view_module": "@jupyter-widgets/base",
            "_view_module_version": "1.2.0",
            "_view_name": "LayoutView",
            "align_content": null,
            "align_items": null,
            "align_self": null,
            "border": null,
            "bottom": null,
            "display": null,
            "flex": null,
            "flex_flow": null,
            "grid_area": null,
            "grid_auto_columns": null,
            "grid_auto_flow": null,
            "grid_auto_rows": null,
            "grid_column": null,
            "grid_gap": null,
            "grid_row": null,
            "grid_template_areas": null,
            "grid_template_columns": null,
            "grid_template_rows": null,
            "height": null,
            "justify_content": null,
            "justify_items": null,
            "left": null,
            "margin": null,
            "max_height": null,
            "max_width": null,
            "min_height": null,
            "min_width": null,
            "object_fit": null,
            "object_position": null,
            "order": null,
            "overflow": null,
            "overflow_x": null,
            "overflow_y": null,
            "padding": null,
            "right": null,
            "top": null,
            "visibility": null,
            "width": null
          }
        },
        "a42fd35eb7b147069283353e806e0dc5": {
          "model_module": "@jupyter-widgets/controls",
          "model_name": "DescriptionStyleModel",
          "model_module_version": "1.5.0",
          "state": {
            "_model_module": "@jupyter-widgets/controls",
            "_model_module_version": "1.5.0",
            "_model_name": "DescriptionStyleModel",
            "_view_count": null,
            "_view_module": "@jupyter-widgets/base",
            "_view_module_version": "1.2.0",
            "_view_name": "StyleView",
            "description_width": ""
          }
        },
        "c29f031ddedf4ec6bfea8ebdb70d3d1a": {
          "model_module": "@jupyter-widgets/base",
          "model_name": "LayoutModel",
          "model_module_version": "1.2.0",
          "state": {
            "_model_module": "@jupyter-widgets/base",
            "_model_module_version": "1.2.0",
            "_model_name": "LayoutModel",
            "_view_count": null,
            "_view_module": "@jupyter-widgets/base",
            "_view_module_version": "1.2.0",
            "_view_name": "LayoutView",
            "align_content": null,
            "align_items": null,
            "align_self": null,
            "border": null,
            "bottom": null,
            "display": null,
            "flex": null,
            "flex_flow": null,
            "grid_area": null,
            "grid_auto_columns": null,
            "grid_auto_flow": null,
            "grid_auto_rows": null,
            "grid_column": null,
            "grid_gap": null,
            "grid_row": null,
            "grid_template_areas": null,
            "grid_template_columns": null,
            "grid_template_rows": null,
            "height": null,
            "justify_content": null,
            "justify_items": null,
            "left": null,
            "margin": null,
            "max_height": null,
            "max_width": null,
            "min_height": null,
            "min_width": null,
            "object_fit": null,
            "object_position": null,
            "order": null,
            "overflow": null,
            "overflow_x": null,
            "overflow_y": null,
            "padding": null,
            "right": null,
            "top": null,
            "visibility": null,
            "width": null
          }
        },
        "6ee97fddde004144b37bc0a607e1ee7f": {
          "model_module": "@jupyter-widgets/controls",
          "model_name": "ProgressStyleModel",
          "model_module_version": "1.5.0",
          "state": {
            "_model_module": "@jupyter-widgets/controls",
            "_model_module_version": "1.5.0",
            "_model_name": "ProgressStyleModel",
            "_view_count": null,
            "_view_module": "@jupyter-widgets/base",
            "_view_module_version": "1.2.0",
            "_view_name": "StyleView",
            "bar_color": null,
            "description_width": ""
          }
        },
        "be48549592614d16b497eaeda2138fe0": {
          "model_module": "@jupyter-widgets/base",
          "model_name": "LayoutModel",
          "model_module_version": "1.2.0",
          "state": {
            "_model_module": "@jupyter-widgets/base",
            "_model_module_version": "1.2.0",
            "_model_name": "LayoutModel",
            "_view_count": null,
            "_view_module": "@jupyter-widgets/base",
            "_view_module_version": "1.2.0",
            "_view_name": "LayoutView",
            "align_content": null,
            "align_items": null,
            "align_self": null,
            "border": null,
            "bottom": null,
            "display": null,
            "flex": null,
            "flex_flow": null,
            "grid_area": null,
            "grid_auto_columns": null,
            "grid_auto_flow": null,
            "grid_auto_rows": null,
            "grid_column": null,
            "grid_gap": null,
            "grid_row": null,
            "grid_template_areas": null,
            "grid_template_columns": null,
            "grid_template_rows": null,
            "height": null,
            "justify_content": null,
            "justify_items": null,
            "left": null,
            "margin": null,
            "max_height": null,
            "max_width": null,
            "min_height": null,
            "min_width": null,
            "object_fit": null,
            "object_position": null,
            "order": null,
            "overflow": null,
            "overflow_x": null,
            "overflow_y": null,
            "padding": null,
            "right": null,
            "top": null,
            "visibility": null,
            "width": null
          }
        },
        "e70a0138c11c40b3bdd892565024fb4d": {
          "model_module": "@jupyter-widgets/controls",
          "model_name": "DescriptionStyleModel",
          "model_module_version": "1.5.0",
          "state": {
            "_model_module": "@jupyter-widgets/controls",
            "_model_module_version": "1.5.0",
            "_model_name": "DescriptionStyleModel",
            "_view_count": null,
            "_view_module": "@jupyter-widgets/base",
            "_view_module_version": "1.2.0",
            "_view_name": "StyleView",
            "description_width": ""
          }
        }
      }
    }
  },
  "nbformat": 4,
  "nbformat_minor": 5
}